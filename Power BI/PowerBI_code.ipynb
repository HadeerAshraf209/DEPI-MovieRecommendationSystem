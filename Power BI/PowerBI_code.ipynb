{
  "nbformat": 4,
  "nbformat_minor": 0,
  "metadata": {
    "colab": {
      "provenance": []
    },
    "kernelspec": {
      "name": "python3",
      "display_name": "Python 3"
    },
    "language_info": {
      "name": "python"
    }
  },
  "cells": [
    {
      "cell_type": "code",
      "execution_count": null,
      "metadata": {
        "id": "xuszk3t5xcEd"
      },
      "outputs": [],
      "source": [
        "# Import libraries\n",
        "import csv\n",
        "import re\n",
        "import pandas as pd"
      ]
    },
    {
      "cell_type": "code",
      "source": [
        "# Define files names\n",
        "original_file = 'movies.csv'\n",
        "cleaned_file_year = 'movies_year.csv'  # New CSV file with year\n",
        "cleaned_file_genres = 'movies_genres.csv'  # New CSV file with split genres"
      ],
      "metadata": {
        "id": "y_DAWAd3xkIH"
      },
      "execution_count": null,
      "outputs": []
    },
    {
      "cell_type": "code",
      "source": [
        "# Open the original CSV file for reading\n",
        "with open(original_file, 'r', encoding='utf-8') as file:\n",
        "    reader = csv.reader(file)\n",
        "\n",
        "    # Read first row as header\n",
        "    header = next(reader)\n",
        "\n",
        "    # Create new headers for cleaned_file_year csv file without genres and adding year\n",
        "    genres_index = header.index('genres')\n",
        "    cleaned_header = header[:genres_index] + ['year']\n",
        "\n",
        "    # Create headers for cleaned_file_genres csv file\n",
        "    genres_header = ['movieId', 'genre']\n",
        "\n",
        "    # Open new files for writing\n",
        "    with open(cleaned_file_year, 'w', newline='', encoding='utf-8') as new_file, \\\n",
        "         open(cleaned_file_genres, 'w', newline='', encoding='utf-8') as genres_file:\n",
        "\n",
        "        year_writer = csv.writer(new_file)\n",
        "        genres_writer = csv.writer(genres_file)\n",
        "\n",
        "        # Write the new headers for each file\n",
        "        year_writer.writerow(cleaned_header)\n",
        "        genres_writer.writerow(genres_header)\n",
        "\n",
        "        # Loop over every row in the original CSV file\n",
        "        for row in reader:\n",
        "            title = row[1]\n",
        "\n",
        "            # Year column in cleaned_file_year csv file\n",
        "            year_match = re.search(r'\\((\\d{4})\\)', title)\n",
        "\n",
        "            if year_match:\n",
        "                year = year_match.group(1)\n",
        "                title_without_year = re.sub(r' \\(\\d{4}\\)', '', title)\n",
        "            else:\n",
        "                title_without_year = title\n",
        "                year = ''\n",
        "\n",
        "            year_writer.writerow([row[0], title_without_year, year])\n",
        "\n",
        "            # Genres column in cleaned_file_genres csv file\n",
        "            genres = row[genres_index]\n",
        "            genre_list = genres.split('|')\n",
        "            for genre in genre_list:\n",
        "                genres_writer.writerow([row[0], genre])\n"
      ],
      "metadata": {
        "id": "z5XH8m6_xlaE"
      },
      "execution_count": null,
      "outputs": []
    },
    {
      "cell_type": "code",
      "source": [
        "# Load data (replace with the actual path to your CSV or data source)\n",
        "ratings_df = pd.read_csv('/content/ratings.csv')\n",
        "movies_year_df = pd.read_csv('/content/movies_year.csv')\n",
        "\n",
        "# Merge ratings and movie titles\n",
        "merged_df = pd.merge(ratings_df, movies_year_df, on='movieId')\n",
        "\n",
        "# Group by movieId and title, calculate the average rating and sort to get the top 10\n",
        "top_10_movies = merged_df.groupby(['movieId', 'title'])['rating'].mean().reset_index()\n",
        "top_10_movies = top_10_movies.sort_values(by='rating', ascending=False).head(10)\n",
        "\n",
        "print(\"Top 10 Rated Movies:\")\n",
        "print(top_10_movies)\n"
      ],
      "metadata": {
        "colab": {
          "base_uri": "https://localhost:8080/"
        },
        "id": "EqIugDXJgR4L",
        "outputId": "147a9c51-a051-4230-e84f-cc7184a57513"
      },
      "execution_count": null,
      "outputs": [
        {
          "output_type": "stream",
          "name": "stdout",
          "text": [
            "Top 10 Rated Movies:\n",
            "      movieId                                        title  rating\n",
            "4239     8955                                     Undertow     5.0\n",
            "5737    92494                         Dylan Moran: Monster     5.0\n",
            "5749    93320                            Trailer Park Boys     5.0\n",
            "5750    93324                                   Undefeated     5.0\n",
            "1180     1824                                    Homegrown     5.0\n",
            "256       326                             To Live (Huozhe)     5.0\n",
            "4025     7826             Secret Life of Walter Mitty, The     5.0\n",
            "1198     1859             Taste of Cherry (Ta'm e guilass)     5.0\n",
            "4013     7773                      Bang, Bang, You're Dead     5.0\n",
            "3997     7700  Wages of Fear, The (Salaire de la peur, Le)     5.0\n"
          ]
        }
      ]
    },
    {
      "cell_type": "code",
      "source": [
        "# Load genre data (replace with actual path)\n",
        "movies_genres_df = pd.read_csv('/content/movies_genres.csv')\n",
        "\n",
        "# Merge genres and ratings\n",
        "merged_genre_df = pd.merge(movies_genres_df, ratings_df, on='movieId')\n",
        "\n",
        "# Group by genre and calculate the average rating per genre\n",
        "top_10_genres = merged_genre_df.groupby('genre')['rating'].mean().reset_index()\n",
        "top_10_genres = top_10_genres.sort_values(by='rating', ascending=False).head(10)\n",
        "\n",
        "print(\"Top 10 Genres by Rating:\")\n",
        "print(top_10_genres)\n"
      ],
      "metadata": {
        "colab": {
          "base_uri": "https://localhost:8080/"
        },
        "id": "5EiHFoEbg4aJ",
        "outputId": "c8a588f3-b94d-4925-9262-7d9b623348b5"
      },
      "execution_count": null,
      "outputs": [
        {
          "output_type": "stream",
          "name": "stdout",
          "text": [
            "Top 10 Genres by Rating:\n",
            "                 genre    rating\n",
            "0   (no genres listed)  4.166667\n",
            "10           Film-Noir  4.011983\n",
            "18                 War  3.848165\n",
            "7          Documentary  3.717694\n",
            "8                Drama  3.715236\n",
            "6                Crime  3.692476\n",
            "14             Mystery  3.688889\n",
            "19             Western  3.641332\n",
            "3            Animation  3.609075\n",
            "15             Romance  3.603037\n"
          ]
        }
      ]
    }
  ]
}
